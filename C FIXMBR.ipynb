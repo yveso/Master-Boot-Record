{
 "cells": [
  {
   "cell_type": "markdown",
   "metadata": {},
   "source": [
    "# C​:​\\​>FIXMBR"
   ]
  },
  {
   "cell_type": "markdown",
   "metadata": {},
   "source": [
    "The album [C​:​\\​>FIXMBR](https://masterbootrecord.bandcamp.com/album/c-fixmbr) has this description:\n",
    "\n",
    "```\n",
    "01001000011001010110000101110110011110010010000001001101011001010111010001100001\n",
    "01101100001000000110100101110011001000000110111001101111011101000010000001100100\n",
    "01100101011000010110010000101110000011010000101001001001011101000010000001110111\n",
    "01100001011100110010000001101010011101010111001101110100001000000110111001101111\n",
    "01110100001000000110010101110110011001010110111001101100011110010010000001110011\n",
    "01111001011011100111010001101000011001010111001101101001011110100110010101100100\n",
    "```"
   ]
  },
  {
   "cell_type": "code",
   "execution_count": 1,
   "metadata": {
    "collapsed": false
   },
   "outputs": [
    {
     "data": {
      "text/plain": [
       "'010010000110010101100001011101100111100100100000010011010110010101110100011000010110110000100000011010010111001100100000011011100110111101110100001000000110010001100101011000010110010000101110000011010000101001001001011101000010000001110111011000010111001100100000011010100111010101110011011101000010000001101110011011110111010000100000011001010111011001100101011011100110110001111001001000000111001101111001011011100111010001101000011001010111001101101001011110100110010101100100'"
      ]
     },
     "execution_count": 1,
     "metadata": {},
     "output_type": "execute_result"
    }
   ],
   "source": [
    "input = '010010000110010101100001011101100111100100100000010011010110010101110100011000010110110000100000011010010111001100100000011011100110111101110100001000000110010001100101011000010110010000101110000011010000101001001001011101000010000001110111011000010111001100100000011010100111010101110011011101000010000001101110011011110111010000100000011001010111011001100101011011100110110001111001001000000111001101111001011011100111010001101000011001010111001101101001011110100110010101100100'\n",
    "\n",
    "input"
   ]
  },
  {
   "cell_type": "markdown",
   "metadata": {},
   "source": [
    "A stream of bits, if the length would be divisible by eight, it could be a stream of bytes."
   ]
  },
  {
   "cell_type": "code",
   "execution_count": 2,
   "metadata": {
    "collapsed": false
   },
   "outputs": [
    {
     "data": {
      "text/plain": [
       "0"
      ]
     },
     "execution_count": 2,
     "metadata": {},
     "output_type": "execute_result"
    }
   ],
   "source": [
    "len(input) % 8"
   ]
  },
  {
   "cell_type": "markdown",
   "metadata": {},
   "source": [
    "Great, so group it in chunks of eight."
   ]
  },
  {
   "cell_type": "code",
   "execution_count": 3,
   "metadata": {
    "collapsed": false
   },
   "outputs": [
    {
     "name": "stdout",
     "output_type": "stream",
     "text": [
      "Pretty printing has been turned OFF\n"
     ]
    },
    {
     "data": {
      "text/plain": [
       "['01001000', '01100101', '01100001', '01110110', '01111001', '00100000', '01001101', '01100101', '01110100', '01100001', '01101100', '00100000', '01101001', '01110011', '00100000', '01101110', '01101111', '01110100', '00100000', '01100100', '01100101', '01100001', '01100100', '00101110', '00001101', '00001010', '01001001', '01110100', '00100000', '01110111', '01100001', '01110011', '00100000', '01101010', '01110101', '01110011', '01110100', '00100000', '01101110', '01101111', '01110100', '00100000', '01100101', '01110110', '01100101', '01101110', '01101100', '01111001', '00100000', '01110011', '01111001', '01101110', '01110100', '01101000', '01100101', '01110011', '01101001', '01111010', '01100101', '01100100']"
      ]
     },
     "execution_count": 3,
     "metadata": {},
     "output_type": "execute_result"
    }
   ],
   "source": [
    "how_many_bytes = len(input) // 8\n",
    "\n",
    "byte_list = [\n",
    "    ''.join(\n",
    "        input[i*8 : (i+1)*8]\n",
    "    )\n",
    "    for i in range(how_many_bytes)\n",
    "]\n",
    "\n",
    "%pprint\n",
    "byte_list"
   ]
  },
  {
   "cell_type": "markdown",
   "metadata": {},
   "source": [
    "What could be encoded in bytes? ASCCI! "
   ]
  },
  {
   "cell_type": "code",
   "execution_count": 4,
   "metadata": {
    "collapsed": false
   },
   "outputs": [
    {
     "data": {
      "text/plain": [
       "'Heavy Metal is not dead.\\r\\nIt was just not evenly synthesized'"
      ]
     },
     "execution_count": 4,
     "metadata": {},
     "output_type": "execute_result"
    }
   ],
   "source": [
    "answer = ''.join([chr(int(c, 2)) for c in byte_list])\n",
    "\n",
    "answer"
   ]
  },
  {
   "cell_type": "markdown",
   "metadata": {},
   "source": [
    "Let's print it for a beautiful line break!"
   ]
  },
  {
   "cell_type": "code",
   "execution_count": 5,
   "metadata": {
    "collapsed": false
   },
   "outputs": [
    {
     "name": "stdout",
     "output_type": "stream",
     "text": [
      "Heavy Metal is not dead.\r\n",
      "It was just not evenly synthesized\n"
     ]
    }
   ],
   "source": [
    "print(answer)"
   ]
  }
 ],
 "metadata": {
  "kernelspec": {
   "display_name": "Python 3",
   "language": "python",
   "name": "python3"
  },
  "language_info": {
   "codemirror_mode": {
    "name": "ipython",
    "version": 3
   },
   "file_extension": ".py",
   "mimetype": "text/x-python",
   "name": "python",
   "nbconvert_exporter": "python",
   "pygments_lexer": "ipython3",
   "version": "3.5.3"
  }
 },
 "nbformat": 4,
 "nbformat_minor": 0
}
